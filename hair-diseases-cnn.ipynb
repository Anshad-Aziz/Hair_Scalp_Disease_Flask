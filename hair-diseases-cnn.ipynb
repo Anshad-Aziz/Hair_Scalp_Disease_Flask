{
 "cells": [
  {
   "cell_type": "code",
   "execution_count": 1,
   "id": "e9eeaed7",
   "metadata": {
    "execution": {
     "iopub.execute_input": "2024-04-20T07:05:06.269034Z",
     "iopub.status.busy": "2024-04-20T07:05:06.268673Z",
     "iopub.status.idle": "2024-04-20T07:05:12.290494Z",
     "shell.execute_reply": "2024-04-20T07:05:12.289535Z"
    },
    "papermill": {
     "duration": 6.049991,
     "end_time": "2024-04-20T07:05:12.293226",
     "exception": false,
     "start_time": "2024-04-20T07:05:06.243235",
     "status": "completed"
    },
    "tags": []
   },
   "outputs": [],
   "source": [
    "from keras.layers import Input, Conv2D, MaxPooling2D, Flatten, Dense\n",
    "from keras.models import Model\n",
    "from keras.preprocessing.image import ImageDataGenerator\n",
    "import numpy as np\n",
    "import matplotlib.pyplot as plt\n",
    "import tensorflow as tf"
   ]
  },
  {
   "cell_type": "code",
   "execution_count": 2,
   "id": "d0d906e8",
   "metadata": {
    "execution": {
     "iopub.execute_input": "2024-04-20T07:05:12.345584Z",
     "iopub.status.busy": "2024-04-20T07:05:12.344843Z",
     "iopub.status.idle": "2024-04-20T07:05:12.349531Z",
     "shell.execute_reply": "2024-04-20T07:05:12.348740Z"
    },
    "papermill": {
     "duration": 0.033224,
     "end_time": "2024-04-20T07:05:12.351737",
     "exception": false,
     "start_time": "2024-04-20T07:05:12.318513",
     "status": "completed"
    },
    "tags": []
   },
   "outputs": [],
   "source": [
    "\n",
    "IMAGE_SIZE = [224, 224]\n",
    "\n",
    "train_path = r'../input/hair-diseases/Hair Diseases - Final/train'\n",
    "test_path = r'../input/hair-diseases/Hair Diseases - Final/test'\n",
    "val_path = r'../input/hair-diseases/Hair Diseases - Final/val'"
   ]
  },
  {
   "cell_type": "markdown",
   "id": "45ecda30",
   "metadata": {
    "papermill": {
     "duration": 0.023738,
     "end_time": "2024-04-20T07:05:12.399773",
     "exception": false,
     "start_time": "2024-04-20T07:05:12.376035",
     "status": "completed"
    },
    "tags": []
   },
   "source": [
    "# Define the CNN architecture\n"
   ]
  },
  {
   "cell_type": "code",
   "execution_count": 3,
   "id": "073c3c77",
   "metadata": {
    "execution": {
     "iopub.execute_input": "2024-04-20T07:05:12.451543Z",
     "iopub.status.busy": "2024-04-20T07:05:12.450851Z",
     "iopub.status.idle": "2024-04-20T07:05:15.453551Z",
     "shell.execute_reply": "2024-04-20T07:05:15.452899Z"
    },
    "papermill": {
     "duration": 3.03023,
     "end_time": "2024-04-20T07:05:15.455927",
     "exception": false,
     "start_time": "2024-04-20T07:05:12.425697",
     "status": "completed"
    },
    "tags": []
   },
   "outputs": [],
   "source": [
    "inputs = Input(shape=(IMAGE_SIZE[0], IMAGE_SIZE[1], 3))\n",
    "x = Conv2D(32, (3, 3), activation='relu')(inputs)\n",
    "x = MaxPooling2D(pool_size=(2, 2))(x)\n",
    "x = Conv2D(64, (3, 3), activation='relu')(x)\n",
    "x = MaxPooling2D(pool_size=(2, 2))(x)\n",
    "x = Conv2D(128, (3, 3), activation='relu')(x)\n",
    "x = MaxPooling2D(pool_size=(2, 2))(x)\n",
    "x = Flatten()(x)\n",
    "x = Dense(256, activation='relu')(x)\n",
    "outputs = Dense(10, activation='softmax')(x)"
   ]
  },
  {
   "cell_type": "markdown",
   "id": "b92333b8",
   "metadata": {
    "papermill": {
     "duration": 0.021364,
     "end_time": "2024-04-20T07:05:15.499006",
     "exception": false,
     "start_time": "2024-04-20T07:05:15.477642",
     "status": "completed"
    },
    "tags": []
   },
   "source": [
    "# Create the model\n"
   ]
  },
  {
   "cell_type": "code",
   "execution_count": 4,
   "id": "0df31f78",
   "metadata": {
    "execution": {
     "iopub.execute_input": "2024-04-20T07:05:15.544830Z",
     "iopub.status.busy": "2024-04-20T07:05:15.544126Z",
     "iopub.status.idle": "2024-04-20T07:05:15.553148Z",
     "shell.execute_reply": "2024-04-20T07:05:15.552386Z"
    },
    "papermill": {
     "duration": 0.034212,
     "end_time": "2024-04-20T07:05:15.555092",
     "exception": false,
     "start_time": "2024-04-20T07:05:15.520880",
     "status": "completed"
    },
    "tags": []
   },
   "outputs": [],
   "source": [
    "model = Model(inputs=inputs, outputs=outputs)"
   ]
  },
  {
   "cell_type": "markdown",
   "id": "f0351b58",
   "metadata": {
    "papermill": {
     "duration": 0.021021,
     "end_time": "2024-04-20T07:05:15.599893",
     "exception": false,
     "start_time": "2024-04-20T07:05:15.578872",
     "status": "completed"
    },
    "tags": []
   },
   "source": [
    "# Compile the model\n"
   ]
  },
  {
   "cell_type": "code",
   "execution_count": 5,
   "id": "da5d6391",
   "metadata": {
    "execution": {
     "iopub.execute_input": "2024-04-20T07:05:15.644478Z",
     "iopub.status.busy": "2024-04-20T07:05:15.643814Z",
     "iopub.status.idle": "2024-04-20T07:05:15.998034Z",
     "shell.execute_reply": "2024-04-20T07:05:15.997374Z"
    },
    "papermill": {
     "duration": 0.378895,
     "end_time": "2024-04-20T07:05:16.000375",
     "exception": false,
     "start_time": "2024-04-20T07:05:15.621480",
     "status": "completed"
    },
    "tags": []
   },
   "outputs": [],
   "source": [
    "\n",
    "opt = tf.keras.optimizers.Adam(learning_rate=0.001)\n",
    "model.compile(\n",
    "    loss='categorical_crossentropy',\n",
    "    optimizer=opt,\n",
    "    metrics=[\"acc\"]\n",
    ")"
   ]
  },
  {
   "cell_type": "markdown",
   "id": "9b45c40e",
   "metadata": {
    "papermill": {
     "duration": 0.02254,
     "end_time": "2024-04-20T07:05:16.045976",
     "exception": false,
     "start_time": "2024-04-20T07:05:16.023436",
     "status": "completed"
    },
    "tags": []
   },
   "source": [
    "# Print model summary\n"
   ]
  },
  {
   "cell_type": "code",
   "execution_count": 6,
   "id": "4d6c22c3",
   "metadata": {
    "execution": {
     "iopub.execute_input": "2024-04-20T07:05:16.093067Z",
     "iopub.status.busy": "2024-04-20T07:05:16.092489Z",
     "iopub.status.idle": "2024-04-20T07:05:16.102181Z",
     "shell.execute_reply": "2024-04-20T07:05:16.100481Z"
    },
    "papermill": {
     "duration": 0.034882,
     "end_time": "2024-04-20T07:05:16.104334",
     "exception": false,
     "start_time": "2024-04-20T07:05:16.069452",
     "status": "completed"
    },
    "tags": []
   },
   "outputs": [
    {
     "name": "stdout",
     "output_type": "stream",
     "text": [
      "Model: \"model\"\n",
      "_________________________________________________________________\n",
      "Layer (type)                 Output Shape              Param #   \n",
      "=================================================================\n",
      "input_1 (InputLayer)         [(None, 224, 224, 3)]     0         \n",
      "_________________________________________________________________\n",
      "conv2d (Conv2D)              (None, 222, 222, 32)      896       \n",
      "_________________________________________________________________\n",
      "max_pooling2d (MaxPooling2D) (None, 111, 111, 32)      0         \n",
      "_________________________________________________________________\n",
      "conv2d_1 (Conv2D)            (None, 109, 109, 64)      18496     \n",
      "_________________________________________________________________\n",
      "max_pooling2d_1 (MaxPooling2 (None, 54, 54, 64)        0         \n",
      "_________________________________________________________________\n",
      "conv2d_2 (Conv2D)            (None, 52, 52, 128)       73856     \n",
      "_________________________________________________________________\n",
      "max_pooling2d_2 (MaxPooling2 (None, 26, 26, 128)       0         \n",
      "_________________________________________________________________\n",
      "flatten (Flatten)            (None, 86528)             0         \n",
      "_________________________________________________________________\n",
      "dense (Dense)                (None, 256)               22151424  \n",
      "_________________________________________________________________\n",
      "dense_1 (Dense)              (None, 10)                2570      \n",
      "=================================================================\n",
      "Total params: 22,247,242\n",
      "Trainable params: 22,247,242\n",
      "Non-trainable params: 0\n",
      "_________________________________________________________________\n"
     ]
    }
   ],
   "source": [
    "model.summary()"
   ]
  },
  {
   "cell_type": "markdown",
   "id": "1aab0168",
   "metadata": {
    "papermill": {
     "duration": 0.021549,
     "end_time": "2024-04-20T07:05:16.148961",
     "exception": false,
     "start_time": "2024-04-20T07:05:16.127412",
     "status": "completed"
    },
    "tags": []
   },
   "source": [
    "# Data augmentation and loading"
   ]
  },
  {
   "cell_type": "code",
   "execution_count": 7,
   "id": "2c371261",
   "metadata": {
    "execution": {
     "iopub.execute_input": "2024-04-20T07:05:16.195169Z",
     "iopub.status.busy": "2024-04-20T07:05:16.194557Z",
     "iopub.status.idle": "2024-04-20T07:05:21.576126Z",
     "shell.execute_reply": "2024-04-20T07:05:21.575396Z"
    },
    "papermill": {
     "duration": 5.407052,
     "end_time": "2024-04-20T07:05:21.578308",
     "exception": false,
     "start_time": "2024-04-20T07:05:16.171256",
     "status": "completed"
    },
    "tags": []
   },
   "outputs": [
    {
     "name": "stdout",
     "output_type": "stream",
     "text": [
      "Found 9600 images belonging to 10 classes.\n",
      "Found 1200 images belonging to 10 classes.\n",
      "Found 1200 images belonging to 10 classes.\n"
     ]
    }
   ],
   "source": [
    "\n",
    "\n",
    "train_datagen = ImageDataGenerator(rescale=1./255)\n",
    "test_datagen = ImageDataGenerator(rescale=1./255)\n",
    "val_datagen = ImageDataGenerator(rescale=1./255)\n",
    "\n",
    "\n",
    "training_set = train_datagen.flow_from_directory(\n",
    "    directory=train_path,\n",
    "    target_size=(224, 224),\n",
    "    batch_size=64,\n",
    "    class_mode='categorical'\n",
    ")\n",
    "test_set = test_datagen.flow_from_directory(\n",
    "    directory=test_path,\n",
    "    target_size=(224, 224),\n",
    "    batch_size=64,\n",
    "    class_mode='categorical',\n",
    "    shuffle=False\n",
    ")\n",
    "val_set = val_datagen.flow_from_directory(\n",
    "    directory=val_path,\n",
    "    target_size=(224, 224),\n",
    "    batch_size=64,\n",
    "    class_mode='categorical',\n",
    "    shuffle=False\n",
    ")"
   ]
  },
  {
   "cell_type": "markdown",
   "id": "14a09aa4",
   "metadata": {
    "papermill": {
     "duration": 0.022953,
     "end_time": "2024-04-20T07:05:21.624236",
     "exception": false,
     "start_time": "2024-04-20T07:05:21.601283",
     "status": "completed"
    },
    "tags": []
   },
   "source": [
    "# Training the model\n"
   ]
  },
  {
   "cell_type": "code",
   "execution_count": 8,
   "id": "66dfe722",
   "metadata": {
    "execution": {
     "iopub.execute_input": "2024-04-20T07:05:21.672077Z",
     "iopub.status.busy": "2024-04-20T07:05:21.671783Z",
     "iopub.status.idle": "2024-04-20T07:31:00.099684Z",
     "shell.execute_reply": "2024-04-20T07:31:00.098966Z"
    },
    "papermill": {
     "duration": 1538.454615,
     "end_time": "2024-04-20T07:31:00.101768",
     "exception": false,
     "start_time": "2024-04-20T07:05:21.647153",
     "status": "completed"
    },
    "tags": []
   },
   "outputs": [
    {
     "name": "stdout",
     "output_type": "stream",
     "text": [
      "Epoch 1/20\n",
      "150/150 [==============================] - 120s 745ms/step - loss: 1.6870 - acc: 0.4365 - val_loss: 1.0983 - val_acc: 0.6050\n",
      "Epoch 2/20\n",
      "150/150 [==============================] - 75s 497ms/step - loss: 0.6707 - acc: 0.7696 - val_loss: 0.4812 - val_acc: 0.8492\n",
      "Epoch 3/20\n",
      "150/150 [==============================] - 75s 500ms/step - loss: 0.2405 - acc: 0.9228 - val_loss: 0.2849 - val_acc: 0.9125\n",
      "Epoch 4/20\n",
      "150/150 [==============================] - 75s 499ms/step - loss: 0.1175 - acc: 0.9641 - val_loss: 0.3179 - val_acc: 0.9042\n",
      "Epoch 5/20\n",
      "150/150 [==============================] - 78s 522ms/step - loss: 0.0676 - acc: 0.9796 - val_loss: 0.2187 - val_acc: 0.9375\n",
      "Epoch 6/20\n",
      "150/150 [==============================] - 74s 493ms/step - loss: 0.0674 - acc: 0.9795 - val_loss: 0.2732 - val_acc: 0.9267\n",
      "Epoch 7/20\n",
      "150/150 [==============================] - 75s 497ms/step - loss: 0.0845 - acc: 0.9726 - val_loss: 0.3076 - val_acc: 0.9092\n",
      "Epoch 8/20\n",
      "150/150 [==============================] - 75s 500ms/step - loss: 0.0349 - acc: 0.9902 - val_loss: 0.2206 - val_acc: 0.9483\n",
      "Epoch 9/20\n",
      "150/150 [==============================] - 75s 503ms/step - loss: 0.0167 - acc: 0.9954 - val_loss: 0.2497 - val_acc: 0.9500\n",
      "Epoch 10/20\n",
      "150/150 [==============================] - 73s 485ms/step - loss: 0.0566 - acc: 0.9821 - val_loss: 0.3615 - val_acc: 0.9133\n",
      "Epoch 11/20\n",
      "150/150 [==============================] - 75s 500ms/step - loss: 0.0384 - acc: 0.9881 - val_loss: 0.2219 - val_acc: 0.9450\n",
      "Epoch 12/20\n",
      "150/150 [==============================] - 74s 494ms/step - loss: 0.0085 - acc: 0.9979 - val_loss: 0.1857 - val_acc: 0.9492\n",
      "Epoch 13/20\n",
      "150/150 [==============================] - 74s 495ms/step - loss: 0.0072 - acc: 0.9984 - val_loss: 0.2936 - val_acc: 0.9408\n",
      "Epoch 14/20\n",
      "150/150 [==============================] - 74s 493ms/step - loss: 0.0467 - acc: 0.9851 - val_loss: 0.2493 - val_acc: 0.9367\n",
      "Epoch 15/20\n",
      "150/150 [==============================] - 74s 496ms/step - loss: 0.0271 - acc: 0.9915 - val_loss: 0.2021 - val_acc: 0.9508\n",
      "Epoch 16/20\n",
      "150/150 [==============================] - 76s 504ms/step - loss: 0.0095 - acc: 0.9971 - val_loss: 0.1900 - val_acc: 0.9592\n",
      "Epoch 17/20\n",
      "150/150 [==============================] - 76s 510ms/step - loss: 6.2690e-04 - acc: 1.0000 - val_loss: 0.1403 - val_acc: 0.9675\n",
      "Epoch 18/20\n",
      "150/150 [==============================] - 74s 490ms/step - loss: 1.2306e-04 - acc: 1.0000 - val_loss: 0.1345 - val_acc: 0.9683\n",
      "Epoch 19/20\n",
      "150/150 [==============================] - 72s 483ms/step - loss: 7.7317e-05 - acc: 1.0000 - val_loss: 0.1326 - val_acc: 0.9683\n",
      "Epoch 20/20\n",
      "150/150 [==============================] - 74s 491ms/step - loss: 6.0405e-05 - acc: 1.0000 - val_loss: 0.1324 - val_acc: 0.9692\n"
     ]
    }
   ],
   "source": [
    "history = model.fit(\n",
    "    training_set,\n",
    "    validation_data=val_set,\n",
    "    epochs=20,\n",
    "    batch_size=128,\n",
    "    steps_per_epoch=len(training_set),\n",
    "    validation_steps=len(test_set)\n",
    ")\n"
   ]
  },
  {
   "cell_type": "markdown",
   "id": "2409898e",
   "metadata": {
    "papermill": {
     "duration": 1.189044,
     "end_time": "2024-04-20T07:31:02.474396",
     "exception": false,
     "start_time": "2024-04-20T07:31:01.285352",
     "status": "completed"
    },
    "tags": []
   },
   "source": [
    "# Save the model\n"
   ]
  },
  {
   "cell_type": "code",
   "execution_count": 9,
   "id": "c1496874",
   "metadata": {
    "execution": {
     "iopub.execute_input": "2024-04-20T07:31:04.869732Z",
     "iopub.status.busy": "2024-04-20T07:31:04.869455Z",
     "iopub.status.idle": "2024-04-20T07:31:05.440540Z",
     "shell.execute_reply": "2024-04-20T07:31:05.439799Z"
    },
    "papermill": {
     "duration": 1.763076,
     "end_time": "2024-04-20T07:31:05.442872",
     "exception": false,
     "start_time": "2024-04-20T07:31:03.679796",
     "status": "completed"
    },
    "tags": []
   },
   "outputs": [],
   "source": [
    "model.save(\"raw_cnn_model.h5\")"
   ]
  },
  {
   "cell_type": "markdown",
   "id": "b4b450d2",
   "metadata": {
    "papermill": {
     "duration": 1.189368,
     "end_time": "2024-04-20T07:31:07.888411",
     "exception": false,
     "start_time": "2024-04-20T07:31:06.699043",
     "status": "completed"
    },
    "tags": []
   },
   "source": [
    "# Save training history\n"
   ]
  },
  {
   "cell_type": "code",
   "execution_count": 10,
   "id": "8e177df1",
   "metadata": {
    "execution": {
     "iopub.execute_input": "2024-04-20T07:31:10.331660Z",
     "iopub.status.busy": "2024-04-20T07:31:10.331009Z",
     "iopub.status.idle": "2024-04-20T07:31:10.335393Z",
     "shell.execute_reply": "2024-04-20T07:31:10.334665Z"
    },
    "papermill": {
     "duration": 1.226152,
     "end_time": "2024-04-20T07:31:10.337304",
     "exception": false,
     "start_time": "2024-04-20T07:31:09.111152",
     "status": "completed"
    },
    "tags": []
   },
   "outputs": [],
   "source": [
    "np.save('raw_cnn_history.npy', history.history)"
   ]
  },
  {
   "cell_type": "markdown",
   "id": "58541158",
   "metadata": {
    "papermill": {
     "duration": 1.217999,
     "end_time": "2024-04-20T07:31:12.797230",
     "exception": false,
     "start_time": "2024-04-20T07:31:11.579231",
     "status": "completed"
    },
    "tags": []
   },
   "source": [
    "# Evaluate the model on test set\n"
   ]
  },
  {
   "cell_type": "code",
   "execution_count": 11,
   "id": "cc87adcd",
   "metadata": {
    "execution": {
     "iopub.execute_input": "2024-04-20T07:31:15.219620Z",
     "iopub.status.busy": "2024-04-20T07:31:15.218877Z",
     "iopub.status.idle": "2024-04-20T07:31:36.355319Z",
     "shell.execute_reply": "2024-04-20T07:31:36.354447Z"
    },
    "papermill": {
     "duration": 22.346862,
     "end_time": "2024-04-20T07:31:36.357354",
     "exception": false,
     "start_time": "2024-04-20T07:31:14.010492",
     "status": "completed"
    },
    "tags": []
   },
   "outputs": [
    {
     "name": "stdout",
     "output_type": "stream",
     "text": [
      "19/19 [==============================] - 12s 631ms/step - loss: 0.1974 - acc: 0.9642\n",
      "Test Accuracy: 96.42%\n",
      "Test Loss: 0.1974\n"
     ]
    }
   ],
   "source": [
    "eval_result = model.evaluate(test_set)\n",
    "test_loss, test_acc = eval_result[0], eval_result[1]\n",
    "print(f'Test Accuracy: {test_acc * 100:.2f}%')\n",
    "print(f'Test Loss: {test_loss:.4f}')"
   ]
  },
  {
   "cell_type": "code",
   "execution_count": 12,
   "id": "623e05c8",
   "metadata": {
    "execution": {
     "iopub.execute_input": "2024-04-20T07:31:38.796470Z",
     "iopub.status.busy": "2024-04-20T07:31:38.795871Z",
     "iopub.status.idle": "2024-04-20T07:31:39.187738Z",
     "shell.execute_reply": "2024-04-20T07:31:39.186996Z"
    },
    "papermill": {
     "duration": 1.59553,
     "end_time": "2024-04-20T07:31:39.190335",
     "exception": false,
     "start_time": "2024-04-20T07:31:37.594805",
     "status": "completed"
    },
    "tags": []
   },
   "outputs": [
    {
     "data": {
      "image/png": "[encoded data removed]",
      "text/plain": [
       "<Figure size 864x432 with 2 Axes>"
      ]
     },
     "metadata": {
      "needs_background": "light"
     },
     "output_type": "display_data"
    }
   ],
   "source": [
    "# Plotting Loss & Accuracy Graphs\n",
    "plt.figure(figsize=(12, 6))\n",
    "plt.subplot(1, 2, 1)\n",
    "plt.plot(history.history['loss'], label='Train Loss')\n",
    "plt.plot(history.history['val_loss'], label='Val Loss')\n",
    "plt.xlabel('Epoch')\n",
    "plt.ylabel('Loss')\n",
    "plt.legend()\n",
    "\n",
    "\n",
    "plt.subplot(1, 2, 2)\n",
    "plt.plot(history.history['acc'], label='Train Accuracy')\n",
    "plt.plot(history.history['val_acc'], label='Val Accuracy')\n",
    "plt.xlabel('Epoch')\n",
    "plt.ylabel('Accuracy')\n",
    "plt.legend()\n",
    "plt.show()\n"
   ]
  },
  {
   "cell_type": "code",
   "execution_count": 13,
   "id": "5f6e77d2",
   "metadata": {
    "execution": {
     "iopub.execute_input": "2024-04-20T07:31:41.662124Z",
     "iopub.status.busy": "2024-04-20T07:31:41.661343Z",
     "iopub.status.idle": "2024-04-20T07:31:51.529303Z",
     "shell.execute_reply": "2024-04-20T07:31:51.528573Z"
    },
    "papermill": {
     "duration": 11.103804,
     "end_time": "2024-04-20T07:31:51.531493",
     "exception": false,
     "start_time": "2024-04-20T07:31:40.427689",
     "status": "completed"
    },
    "tags": []
   },
   "outputs": [
    {
     "name": "stdout",
     "output_type": "stream",
     "text": [
      "Found 1200 images belonging to 10 classes.\n",
      "Confusion Matrix:\n",
      "[[118   0   0   0   0   0   1   0   1   0]\n",
      " [  0 117   0   1   0   1   0   1   0   0]\n",
      " [  0   0 119   0   0   0   0   0   1   0]\n",
      " [  0   0   0 119   0   0   1   0   0   0]\n",
      " [  0   0   0   2 111   1   1   1   1   3]\n",
      " [  2   0   0   0   0 118   0   0   0   0]\n",
      " [  0   0   0   0   0   0 118   0   1   1]\n",
      " [  0   1   0   1   0   0   1 116   0   1]\n",
      " [  0   0   0   0   1   0   1   0 114   4]\n",
      " [  1   0   1   1   0   2   2   4   2 107]]\n",
      "Classification Report:\n",
      "              precision    recall  f1-score   support\n",
      "\n",
      "           0       0.98      0.98      0.98       120\n",
      "           1       0.99      0.97      0.98       120\n",
      "           2       0.99      0.99      0.99       120\n",
      "           3       0.96      0.99      0.98       120\n",
      "           4       0.99      0.93      0.96       120\n",
      "           5       0.97      0.98      0.98       120\n",
      "           6       0.94      0.98      0.96       120\n",
      "           7       0.95      0.97      0.96       120\n",
      "           8       0.95      0.95      0.95       120\n",
      "           9       0.92      0.89      0.91       120\n",
      "\n",
      "    accuracy                           0.96      1200\n",
      "   macro avg       0.96      0.96      0.96      1200\n",
      "weighted avg       0.96      0.96      0.96      1200\n",
      "\n"
     ]
    },
    {
     "data": {
      "image/png": "[encoded data removed]",
      "text/plain": [
       "<Figure size 432x288 with 1 Axes>"
      ]
     },
     "metadata": {
      "needs_background": "light"
     },
     "output_type": "display_data"
    }
   ],
   "source": [
    "import numpy as np\n",
    "import matplotlib.pyplot as plt\n",
    "from sklearn.metrics import confusion_matrix, classification_report, roc_curve, auc, precision_recall_curve, average_precision_score\n",
    "\n",
    "model = tf.keras.models.load_model(\"raw_cnn_model.h5\")\n",
    "history = np.load('raw_cnn_history.npy', allow_pickle='TRUE').item()\n",
    "\n",
    "\n",
    "test_datagen = ImageDataGenerator(rescale=1./255)\n",
    "test_set = test_datagen.flow_from_directory(\n",
    "    directory=test_path,\n",
    "    target_size=(224, 224),\n",
    "    batch_size=64,\n",
    "    class_mode='categorical',\n",
    "    shuffle=False\n",
    ")\n",
    "\n",
    "\n",
    "y_true = test_set.classes\n",
    "y_pred_probs = model.predict(test_set)\n",
    "\n",
    "# If binary classification, use the first column of predictions\n",
    "if y_pred_probs.shape[1] == 1:\n",
    "    y_pred = (y_pred_probs > 0.5).astype(int)\n",
    "    y_pred_probs = y_pred_probs.flatten()\n",
    "\n",
    "    # Compute precision-recall curve and average precision\n",
    "    precision, recall, _ = precision_recall_curve(y_true, y_pred_probs)\n",
    "    average_precision = average_precision_score(y_true, y_pred_probs)\n",
    "\n",
    "    # Plot precision-recall curve\n",
    "    plt.figure()\n",
    "    plt.step(recall, precision, color='b', alpha=0.2, where='post')\n",
    "    plt.fill_between(recall, precision, step='post', alpha=0.2, color='b')\n",
    "    plt.xlabel('Recall')\n",
    "    plt.ylabel('Precision')\n",
    "    plt.title('Precision-Recall curve: AP={0:0.2f}'.format(average_precision))\n",
    "    plt.show()\n",
    "\n",
    "    # Compute confusion matrix\n",
    "    cm = confusion_matrix(y_true, y_pred)\n",
    "    print(\"Confusion Matrix:\")\n",
    "    print(cm)\n",
    "\n",
    "    print(\"Classification Report:\")\n",
    "    print(classification_report(y_true, y_pred))\n",
    "\n",
    "    fpr, tpr, thresholds = roc_curve(y_true, y_pred_probs)\n",
    "    roc_auc = auc(fpr, tpr)\n",
    "\n",
    "    # Plot ROC curve\n",
    "    plt.figure()\n",
    "    plt.plot(fpr, tpr, color='darkorange', lw=2, label='ROC curve (area = %0.2f)' % roc_auc)\n",
    "    plt.plot([0, 1], [0, 1], color='navy', lw=2, linestyle='--')\n",
    "    plt.xlim([0.0, 1.0])\n",
    "    plt.ylim([0.0, 1.05])\n",
    "    plt.xlabel('False Positive Rate')\n",
    "    plt.ylabel('True Positive Rate')\n",
    "    plt.title('Receiver Operating Characteristic (ROC) Curve')\n",
    "    plt.legend(loc=\"lower right\")\n",
    "    plt.show()\n",
    "\n",
    "else:  \n",
    "    y_pred = np.argmax(y_pred_probs, axis=1)\n",
    "\n",
    "    cm = confusion_matrix(y_true, y_pred)\n",
    "    print(\"Confusion Matrix:\")\n",
    "    print(cm)\n",
    "\n",
    "    print(\"Classification Report:\")\n",
    "    print(classification_report(y_true, y_pred))\n",
    "\n",
    "    \n",
    "    num_classes = len(np.unique(y_true))\n",
    "    fpr = dict()\n",
    "    tpr = dict()\n",
    "    roc_auc = dict()\n",
    "    for i in range(num_classes):\n",
    "        fpr[i], tpr[i], _ = roc_curve((y_true == i).astype(int), y_pred_probs[:, i])\n",
    "        roc_auc[i] = auc(fpr[i], tpr[i])\n",
    "\n",
    "    # Plot ROC curve for each class\n",
    "    plt.figure()\n",
    "    colors = ['blue', 'red', 'green', 'orange', 'purple', 'brown', 'pink', 'gray', 'olive', 'cyan']\n",
    "    for i, color in zip(range(num_classes), colors):\n",
    "        plt.plot(fpr[i], tpr[i], color=color, lw=2, label='ROC curve (area = %0.2f)' % roc_auc[i])\n",
    "    plt.plot([0, 1], [0, 1], color='navy', lw=2, linestyle='--')\n",
    "    plt.xlim([0.0, 1.0])\n",
    "    plt.ylim([0.0, 1.05])\n",
    "    plt.xlabel('False Positive Rate')\n",
    "    plt.ylabel('True Positive Rate')\n",
    "    plt.title('Receiver Operating Characteristic (ROC) Curve')\n",
    "    plt.legend(loc=\"lower right\")\n",
    "    plt.show()\n"
   ]
  },
  {
   "cell_type": "code",
   "execution_count": 14,
   "id": "efb31480",
   "metadata": {
    "execution": {
     "iopub.execute_input": "2024-04-20T07:31:53.978323Z",
     "iopub.status.busy": "2024-04-20T07:31:53.977694Z",
     "iopub.status.idle": "2024-04-20T07:31:54.876657Z",
     "shell.execute_reply": "2024-04-20T07:31:54.875941Z"
    },
    "papermill": {
     "duration": 2.144954,
     "end_time": "2024-04-20T07:31:54.879557",
     "exception": false,
     "start_time": "2024-04-20T07:31:52.734603",
     "status": "completed"
    },
    "tags": []
   },
   "outputs": [
    {
     "data": {
      "image/png": "[encoded data removed]",
      "text/plain": [
       "<Figure size 864x720 with 1 Axes>"
      ]
     },
     "metadata": {
      "needs_background": "light"
     },
     "output_type": "display_data"
    }
   ],
   "source": [
    "import seaborn as sns\n",
    "import matplotlib.pyplot as plt\n",
    "import numpy as np\n",
    "\n",
    "\n",
    "plt.figure(figsize=(12, 10))\n",
    "sns.heatmap(cm, annot=True, fmt='d', cmap='Blues', cbar=False)\n",
    "\n",
    "plt.title('Confusion Matrix', fontsize=16)\n",
    "plt.xlabel('Predicted Labels', fontsize=14)\n",
    "plt.ylabel('True Labels', fontsize=14)\n",
    "plt.xticks(ticks=np.arange(len(test_set.class_indices)), labels=test_set.class_indices.keys(), fontsize=12, rotation=45)\n",
    "plt.yticks(ticks=np.arange(len(test_set.class_indices)), labels=test_set.class_indices.keys(), fontsize=12, rotation=0)\n",
    "plt.tight_layout()\n",
    "plt.show()\n",
    "\n"
   ]
  }
 ],
 "metadata": {
  "kaggle": {
   "accelerator": "gpu",
   "dataSources": [
    {
     "datasetId": 2197357,
     "sourceId": 3671116,
     "sourceType": "datasetVersion"
    }
   ],
   "dockerImageVersionId": 30192,
   "isGpuEnabled": true,
   "isInternetEnabled": true,
   "language": "python",
   "sourceType": "notebook"
  },
  "kernelspec": {
   "display_name": "Python 3",
   "language": "python",
   "name": "python3"
  },
  "language_info": {
   "codemirror_mode": {
    "name": "ipython",
    "version": 3
   },
   "file_extension": ".py",
   "mimetype": "text/x-python",
   "name": "python",
   "nbconvert_exporter": "python",
   "pygments_lexer": "ipython3",
   "version": "3.7.12"
  },
  "papermill": {
   "default_parameters": {},
   "duration": 1622.92563,
   "end_time": "2024-04-20T07:31:59.422685",
   "environment_variables": {},
   "exception": null,
   "input_path": "__notebook__.ipynb",
   "output_path": "__notebook__.ipynb",
   "parameters": {},
   "start_time": "2024-04-20T07:04:56.497055",
   "version": "2.3.4"
  }
 },
 "nbformat": 4,
 "nbformat_minor": 5
}
